{
 "cells": [
  {
   "cell_type": "code",
   "execution_count": 23,
   "id": "ab0b33ee",
   "metadata": {},
   "outputs": [
    {
     "data": {
      "text/plain": [
       "True"
      ]
     },
     "execution_count": 23,
     "metadata": {},
     "output_type": "execute_result"
    }
   ],
   "source": [
    "#List Data Structures In C++\n",
    "{1,2} == {2,1}\n"
   ]
  },
  {
   "cell_type": "code",
   "execution_count": 26,
   "id": "f8007806-6417-4f16-b0e3-6e43aac9553e",
   "metadata": {},
   "outputs": [
    {
     "data": {
      "text/plain": [
       "'SorrySorrySorrySorrySorrySorrySorrySorrySorrySorrySorrySorrySorrySorrySorrySorrySorrySorrySorrySorrySorrySorrySorrySorrySorrySorrySorrySorrySorrySorrySorrySorrySorrySorrySorrySorrySorrySorrySorrySorrySorrySorrySorrySorrySorrySorrySorrySorrySorrySorrySorrySorrySorrySorrySorrySorrySorrySorrySorrySorrySorrySorrySorrySorrySorrySorrySorrySorrySorrySorrySorrySorrySorrySorrySorrySorrySorrySorrySorrySorrySorrySorrySorrySorrySorrySorrySorrySorrySorrySorrySorrySorrySorrySorrySorrySorrySorrySorrySorrySorrySorrySorrySorrySorrySorrySorrySorrySorrySorrySorrySorrySorrySorrySorrySorrySorrySorrySorrySorrySorrySorrySorrySorrySorrySorrySorrySorrySorrySorrySorrySorrySorrySorrySorrySorrySorrySorrySorrySorrySorrySorrySorrySorrySorrySorrySorrySorrySorrySorrySorrySorrySorrySorrySorrySorrySorrySorrySorrySorrySorrySorrySorrySorrySorrySorrySorrySorrySorrySorrySorrySorrySorrySorrySorrySorrySorrySorrySorrySorrySorrySorrySorrySorrySorrySorrySorrySorrySorrySorrySorrySorrySorrySorrySorrySorrySorrySorrySorrySorrySorrySorrySorrySorrySorrySorrySorrySorrySorrySorrySorrySorrySorrySorrySorrySorrySorrySorrySorrySorrySorrySorrySorrySorrySorrySorrySorrySorrySorrySorrySorrySorrySorrySorrySorrySorrySorrySorrySorrySorrySorrySorrySorrySorrySorrySorrySorrySorrySorrySorrySorrySorrySorrySorrySorrySorrySorrySorrySorrySorrySorrySorrySorrySorrySorrySorrySorrySorrySorrySorrySorrySorrySorrySorrySorrySorrySorrySorrySorrySorrySorrySorrySorrySorrySorrySorrySorrySorrySorrySorrySorrySorrySorrySorrySorrySorrySorrySorrySorrySorrySorrySorrySorrySorrySorrySorrySorrySorrySorrySorrySorrySorrySorrySorrySorrySorrySorrySorrySorrySorrySorrySorrySorrySorrySorrySorrySorrySorrySorrySorrySorrySorrySorrySorrySorrySorrySorrySorrySorrySorrySorrySorrySorrySorrySorrySorrySorrySorrySorrySorrySorrySorrySorrySorrySorrySorrySorrySorrySorrySorrySorrySorrySorrySorrySorrySorrySorrySorrySorrySorrySorrySorrySorrySorrySorrySorrySorrySorrySorrySorrySorrySorrySorrySorrySorrySorrySorrySorrySorrySorrySorrySorrySorrySorrySorrySorrySorrySorrySorrySorrySorrySorrySorrySorrySorrySorrySorrySorrySorrySorrySorrySorrySorrySorrySorrySorrySorrySorrySorrySorrySorrySorrySorrySorrySorrySorrySorrySorrySorrySorrySorrySorrySorrySorrySorrySorrySorrySorrySorrySorrySorrySorrySorrySorrySorrySorrySorrySorrySorrySorrySorrySorrySorrySorrySorrySorrySorrySorrySorrySorrySorrySorrySorrySorrySorrySorrySorrySorrySorrySorrySorrySorrySorrySorrySorrySorrySorrySorrySorrySorrySorrySorrySorrySorrySorrySorrySorrySorrySorrySorrySorrySorrySorrySorrySorrySorrySorrySorrySorrySorrySorrySorrySorrySorrySorrySorrySorrySorrySorrySorrySorrySorrySorrySorrySorrySorrySorrySorrySorrySorrySorrySorrySorrySorrySorrySorrySorrySorrySorrySorrySorrySorrySorrySorrySorrySorrySorrySorrySorrySorrySorrySorrySorrySorrySorrySorrySorrySorrySorrySorrySorrySorrySorrySorrySorrySorrySorrySorrySorrySorrySorrySorrySorrySorrySorrySorrySorrySorrySorrySorrySorrySorrySorrySorrySorrySorrySorrySorrySorrySorrySorrySorrySorrySorrySorrySorrySorrySorrySorrySorrySorrySorrySorrySorrySorrySorrySorrySorrySorrySorrySorrySorrySorrySorrySorrySorrySorrySorrySorrySorrySorrySorrySorrySorrySorrySorrySorrySorrySorrySorrySorrySorrySorrySorrySorrySorrySorrySorrySorrySorrySorrySorrySorrySorrySorrySorrySorrySorrySorrySorrySorrySorrySorrySorrySorrySorrySorrySorrySorrySorrySorrySorrySorrySorrySorrySorrySorrySorrySorrySorrySorrySorrySorrySorrySorrySorrySorrySorrySorrySorrySorrySorrySorrySorrySorrySorrySorrySorrySorrySorrySorrySorrySorrySorrySorrySorrySorrySorrySorrySorrySorrySorrySorrySorrySorrySorrySorrySorrySorrySorrySorrySorrySorrySorrySorrySorrySorrySorrySorrySorrySorrySorrySorrySorrySorrySorrySorrySorrySorrySorrySorrySorrySorrySorrySorrySorrySorrySorrySorrySorrySorrySorrySorrySorrySorrySorrySorrySorrySorrySorrySorrySorrySorrySorrySorrySorrySorrySorrySorrySorrySorrySorrySorrySorrySorrySorrySorrySorrySorrySorrySorrySorrySorrySorrySorrySorrySorrySorrySorrySorrySorrySorrySorrySorrySorrySorrySorrySorrySorrySorrySorrySorrySorrySorrySorrySorrySorrySorrySorrySorrySorrySorrySorrySorrySorrySorrySorrySorrySorrySorrySorrySorrySorrySorrySorrySorrySorrySorrySorrySorrySorrySorrySorrySorrySorrySorrySorrySorrySorrySorrySorrySorrySorrySorrySorrySorrySorrySorrySorrySorrySorrySorrySorrySorrySorrySorrySorrySorrySorrySorrySorrySorrySorrySorrySorrySorrySorrySorrySorrySorrySorrySorrySorrySorrySorrySorrySorrySorrySorrySorrySorrySorrySorrySorrySorrySorrySorrySorrySorrySorrySorrySorrySorrySorrySorrySorrySorrySorrySorrySorrySorrySorrySorrySorrySorrySorrySorrySorrySorrySorrySorrySorrySorrySorrySorrySorrySorrySorrySorrySorrySorrySorrySorrySorrySorrySorrySorrySorrySorrySorrySorrySorrySorrySorrySorrySorrySorrySorrySorrySorrySorrySorrySorrySorrySorrySorrySorrySorrySorrySorrySorrySorrySorrySorrySorrySorrySorrySorrySorrySorrySorrySorrySorrySorrySorrySorrySorrySorrySorrySorrySorrySorrySorrySorrySorrySorrySorrySorrySorrySorrySorrySorrySorrySorrySorrySorrySorrySorrySorrySorrySorrySorrySorrySorrySorrySorrySorrySorrySorrySorrySorrySorrySorrySorrySorrySorrySorrySorrySorrySorrySorrySorrySorrySorrySorrySorrySorrySorrySorrySorrySorry'"
      ]
     },
     "execution_count": 26,
     "metadata": {},
     "output_type": "execute_result"
    }
   ],
   "source": [
    "'Sorry' * 1000"
   ]
  },
  {
   "cell_type": "code",
   "execution_count": null,
   "id": "041ef23e-47a0-45fe-a21a-c751dc26b551",
   "metadata": {},
   "outputs": [],
   "source": []
  }
 ],
 "metadata": {
  "kernelspec": {
   "display_name": "Python 3 (ipykernel)",
   "language": "python",
   "name": "python3"
  },
  "language_info": {
   "codemirror_mode": {
    "name": "ipython",
    "version": 3
   },
   "file_extension": ".py",
   "mimetype": "text/x-python",
   "name": "python",
   "nbconvert_exporter": "python",
   "pygments_lexer": "ipython3",
   "version": "3.11.4"
  },
  "vscode": {
   "interpreter": {
    "hash": "949777d72b0d2535278d3dc13498b2535136f6dfe0678499012e853ee9abcab1"
   }
  }
 },
 "nbformat": 4,
 "nbformat_minor": 5
}
